def generate_greeting(name, age, favorite_color, nationality):
    greeting = f"Hello {name}!"
    if age <= 12:
        greeting += " It's great to see a young one like you!"
    elif age <= 20:
        greeting += " You're at such an exciting age!"
    else:
        greeting += " Age is just a number, and you're rocking it!"

    greeting += f" I see that your favorite color is {favorite_color}. That's a fantastic choice!"

    if nationality.lower() == "mongolian":
        greeting += " It's wonderful to connect with someone from Mongolia. Your culture is rich and fascinating!"

    return greeting

name = input("What's your name? ")
age = int(input("How old are you? "))
favorite_color = input("What's your favorite color? ")
nationality = input("What's your nationality? ")

generated_greeting = generate_greeting(name, age, favorite_color, nationality)
print(generated_greeting)
